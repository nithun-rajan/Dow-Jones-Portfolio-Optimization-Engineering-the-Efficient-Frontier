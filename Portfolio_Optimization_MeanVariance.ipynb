{
  "cells": [
    {
      "cell_type": "markdown",
      "metadata": {
        "id": "view-in-github",
        "colab_type": "text"
      },
      "source": [
        "<a href=\"https://colab.research.google.com/github/nithun-rajan/Portfolio-Optimization-MeanVariance/blob/main/Portfolio_Optimization_MeanVariance.ipynb\" target=\"_parent\"><img src=\"https://colab.research.google.com/assets/colab-badge.svg\" alt=\"Open In Colab\"/></a>"
      ]
    },
    {
      "cell_type": "markdown",
      "metadata": {
        "id": "RI-L7Mv6OOj6"
      },
      "source": [
        "\n",
        "\n"
      ]
    },
    {
      "cell_type": "markdown",
      "metadata": {
        "id": "PxaT8EluU9Ss"
      },
      "source": [
        "Constraint (via A_ub and b_ub) says:\n",
        "“Total money invested ≤ 1.”\n",
        "(Sum of weights ≤ 1)\n",
        "\n",
        "Bounds says:\n",
        "“Each individual weight must be between 0 and 1.”\n",
        "(Makes sure no short-selling or over-investment per asset.)"
      ]
    },
    {
      "cell_type": "markdown",
      "metadata": {
        "id": "kuiNRHCiW0m_"
      },
      "source": [
        "**Obtaining the Maximal Expected Return of the Portfolio**"
      ]
    },
    {
      "cell_type": "code",
      "execution_count": null,
      "metadata": {
        "id": "cjkQ9lmTLzKu"
      },
      "outputs": [],
      "source": [
        "def MaximiseReturns(MeanReturns, PortfolioSize):\n",
        "  from scipy.optimize import linprog\n",
        "  import numpy as np\n",
        "  c = (np.multiply(-1 , MeanReturns))\n",
        "  A = np.ones([PortfolioSize,1]).T\n",
        "  b = [1]\n",
        "  res = linprog(c , A_ub = A , b_ub=b ,bounds=(0,1), method = 'simplex')\n",
        "\n",
        "  return res"
      ]
    },
    {
      "cell_type": "markdown",
      "metadata": {
        "id": "WYZtNY_YW3M3"
      },
      "source": [
        "**Obtaining the Optimal Expected Return of a Minimum Risk Portfolio**"
      ]
    },
    {
      "cell_type": "code",
      "execution_count": null,
      "metadata": {
        "id": "mF0BLGTKPnRO"
      },
      "outputs": [],
      "source": [
        "def MinimizeRisks(CovarReturns , PortfolioSize):\n",
        "   def  f(x, CovarReturns):\n",
        "        func = np.matmul(np.matmul(x, CovarReturns), x.T)\n",
        "        return func\n",
        "\n",
        "def ConstraintEq(x):\n",
        "  A = np.ones(x.shape)\n",
        "  b = 1\n",
        "  constraintVal = np.matmul(A , x.T)-b\n",
        "  return constraintVal\n",
        "\n",
        "  x_initial=np.repeat(0.1,PortfolioSize)\n",
        "  cons = ({'type':'eq','fun': ConstraintEq})\n",
        "  lower_bound = [0]\n",
        "  upper_bound = [1]\n",
        "  bounds = tuple([(lower_bound,upper_bound)for x in x_initial])\n",
        "\n",
        "  opt = optimize.minimize (f, x0 = xinit, args = (CovarReturns),  bounds = bounds, \\\n",
        "                             constraints = cons, tol = 10**-3)\n",
        "  return opt\n",
        "\n",
        "\n"
      ]
    },
    {
      "cell_type": "markdown",
      "metadata": {
        "id": "cl8rHpIr6mFD"
      },
      "source": [
        "**Obtaining the Optimal Weights for Minimum Risk and Maximum Return Portfolios**"
      ]
    },
    {
      "cell_type": "code",
      "execution_count": null,
      "metadata": {
        "id": "nHAmXjF76ghC"
      },
      "outputs": [],
      "source": [
        "import numpy as np\n",
        "from scipy import optimize\n",
        "\n",
        "def MinimizeRiskConstr(MeanReturns, CovarReturns, PortfolioSize, R):\n",
        "\n",
        "    def f(x, CovarReturns):\n",
        "        func = np.matmul(np.matmul(x, CovarReturns), x.T)\n",
        "        return func\n",
        "\n",
        "    def constraintEq(x):\n",
        "        Aeq = np.ones(x.shape)\n",
        "        bEq = 1\n",
        "        EqconstraintVal = np.matmul(Aeq, x.T) - bEq\n",
        "        return EqconstraintVal\n",
        "\n",
        "    def constraintIneq(x, MeanReturns, R):\n",
        "        AIneq = np.array(MeanReturns)\n",
        "        bIneq = R\n",
        "        IneqconstraintVal = np.matmul(AIneq, x.T) - bIneq\n",
        "        return IneqconstraintVal  # Fixed typo here too\n",
        "\n",
        "    x_initial = np.repeat(0.1, PortfolioSize)\n",
        "\n",
        "    cons = (\n",
        "        {'type': 'eq', 'fun': constraintEq},\n",
        "        {'type': 'ineq', 'fun': constraintIneq, 'args': (MeanReturns, R)}\n",
        "    )\n",
        "\n",
        "    lb = 0\n",
        "    ub = 1\n",
        "\n",
        "    bnds = tuple([(lb, ub) for _ in x_initial])\n",
        "\n",
        "    opt = optimize.minimize(\n",
        "        f, args=(CovarReturns,), method='trust-constr',\n",
        "        x0=x_initial, bounds=bnds, constraints=cons, tol=10**-3\n",
        "    )\n",
        "\n",
        "    return opt\n"
      ]
    },
    {
      "cell_type": "markdown",
      "metadata": {
        "id": "MhPwq0RFzyd2"
      },
      "source": [
        "**Case Study**"
      ]
    },
    {
      "cell_type": "markdown",
      "metadata": {
        "id": "J8-E-N4rzfKL"
      },
      "source": [
        "Let us suppose that an investor decides to invest in a k-portfolio (k-portfolio 1) comprising the following Dow stocks.\n",
        "k-portfolio 1:\n",
        "\n",
        "{Coca-Cola (KO), United Health (UNH), Walt Disney (DIS), IBM (IBM), Cisco (CSCO), JPMorgan Chase (JPM), Goldman Sachs (GS), Walgreens Boots Alliance (WBA), Apple (AAPL), Home Depot (HD), American Express (AXP), McDonald's (MCD), Merck (MRK), Boeing (BA), Caterpillar (CAT)}\n",
        "\n",
        "The following Python code reads the dataset concerned, computes the stock returns using the Python function StockReturnsComputing and obtains the mean returns and the variance-covariance matrix of returns\n"
      ]
    },
    {
      "cell_type": "code",
      "source": [],
      "metadata": {
        "id": "TPATAtbrqHdv"
      },
      "execution_count": null,
      "outputs": []
    },
    {
      "cell_type": "markdown",
      "source": [
        "The remaining part is coded in VScode , pls open main.py uploaded in the github repo"
      ],
      "metadata": {
        "id": "3I-JXelxqO-M"
      }
    }
  ],
  "metadata": {
    "colab": {
      "provenance": [],
      "authorship_tag": "ABX9TyPD9qwtcW4XF6Ms+7Ews1a4",
      "include_colab_link": true
    },
    "kernelspec": {
      "display_name": "Python 3",
      "name": "python3"
    },
    "language_info": {
      "name": "python"
    }
  },
  "nbformat": 4,
  "nbformat_minor": 0
}